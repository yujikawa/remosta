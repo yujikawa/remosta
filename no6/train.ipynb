{
 "cells": [
  {
   "cell_type": "code",
   "execution_count": 2,
   "metadata": {},
   "outputs": [],
   "source": [
    "import numpy as np\n",
    "# import cv2\n",
    "from PIL import Image\n",
    "import matplotlib.pyplot as plt\n",
    "from model import Net"
   ]
  },
  {
   "cell_type": "code",
   "execution_count": 1,
   "metadata": {},
   "outputs": [],
   "source": [
    "import torch\n",
    "import torchvision\n",
    "import torch.nn as nn\n",
    "import torch.nn.functional as F\n",
    "from torchvision import transforms\n",
    "from torchvision.models import resnet18\n",
    "import pytorch_lightning as pl\n",
    "from pytorch_lightning import Trainer"
   ]
  },
  {
   "cell_type": "code",
   "execution_count": 3,
   "metadata": {},
   "outputs": [],
   "source": [
    "transform = transforms.Compose([\n",
    "    transforms.Resize((224, 224)),\n",
    "    transforms.ToTensor(),\n",
    "    transforms.Normalize(mean=[0.485, 0.456, 0.406], std=[0.229, 0.224, 0.225])\n",
    "])"
   ]
  },
  {
   "cell_type": "code",
   "execution_count": 4,
   "metadata": {},
   "outputs": [],
   "source": [
    "dataset = torchvision.datasets.ImageFolder('data', transform)"
   ]
  },
  {
   "cell_type": "code",
   "execution_count": 5,
   "metadata": {},
   "outputs": [],
   "source": [
    "n_train = int(len(dataset)*0.6)\n",
    "n_val = int(len(dataset)*0.2)\n",
    "n_test = len(dataset) - n_train - n_val"
   ]
  },
  {
   "cell_type": "code",
   "execution_count": 6,
   "metadata": {},
   "outputs": [
    {
     "output_type": "stream",
     "name": "stdout",
     "text": [
      "83\n27\n29\n139\n"
     ]
    }
   ],
   "source": [
    "print(n_train)\n",
    "print(n_val)\n",
    "print(n_test)\n",
    "print(n_train + n_val + n_test)"
   ]
  },
  {
   "cell_type": "code",
   "execution_count": 7,
   "metadata": {},
   "outputs": [],
   "source": [
    "torch.manual_seed(0)\n",
    "batch_size = 10"
   ]
  },
  {
   "cell_type": "code",
   "execution_count": 8,
   "metadata": {},
   "outputs": [
    {
     "output_type": "execute_result",
     "data": {
      "text/plain": [
       "139"
      ]
     },
     "metadata": {},
     "execution_count": 8
    }
   ],
   "source": [
    "len(dataset)"
   ]
  },
  {
   "cell_type": "code",
   "execution_count": 9,
   "metadata": {},
   "outputs": [],
   "source": [
    "train, val, test = torch.utils.data.random_split(dataset, [n_train, n_val, n_test])"
   ]
  },
  {
   "cell_type": "code",
   "execution_count": 10,
   "metadata": {},
   "outputs": [],
   "source": [
    "train_loader = torch.utils.data.DataLoader(train, batch_size=batch_size, shuffle=True, drop_last=True)\n",
    "val_loader = torch.utils.data.DataLoader(val, batch_size=batch_size)\n",
    "test_loader = torch.utils.data.DataLoader(test, batch_size=batch_size)"
   ]
  },
  {
   "cell_type": "code",
   "execution_count": 11,
   "metadata": {},
   "outputs": [
    {
     "output_type": "stream",
     "name": "stderr",
     "text": [
      "Global seed set to 0\n"
     ]
    }
   ],
   "source": [
    "pl.seed_everything(0)\n",
    "net = Net()"
   ]
  },
  {
   "cell_type": "code",
   "execution_count": 57,
   "metadata": {},
   "outputs": [
    {
     "name": "stderr",
     "output_type": "stream",
     "text": [
      "GPU available: False, used: False\n",
      "TPU available: False, using: 0 TPU cores\n"
     ]
    }
   ],
   "source": [
    "trainer = pl.Trainer(max_epochs=10)"
   ]
  },
  {
   "cell_type": "code",
   "execution_count": 58,
   "metadata": {},
   "outputs": [
    {
     "name": "stderr",
     "output_type": "stream",
     "text": [
      "\n",
      "  | Name              | Type     | Params\n",
      "-----------------------------------------------\n",
      "0 | feature_extractor | ResNet   | 11.7 M\n",
      "1 | fc                | Linear   | 2.0 K \n",
      "2 | train_acc         | Accuracy | 0     \n",
      "3 | val_acc           | Accuracy | 0     \n",
      "4 | test_acc          | Accuracy | 0     \n",
      "-----------------------------------------------\n",
      "2.0 K     Trainable params\n",
      "11.7 M    Non-trainable params\n",
      "11.7 M    Total params\n",
      "46.766    Total estimated model params size (MB)\n"
     ]
    },
    {
     "name": "stdout",
     "output_type": "stream",
     "text": [
      "Validation sanity check:   0%|          | 0/2 [00:00<?, ?it/s]"
     ]
    },
    {
     "name": "stderr",
     "output_type": "stream",
     "text": [
      "/Users/yujikawa/.pyenv/versions/3.9.4/lib/python3.9/site-packages/pytorch_lightning/utilities/distributed.py:69: UserWarning: The dataloader, val dataloader 0, does not have many workers which may be a bottleneck. Consider increasing the value of the `num_workers` argument` (try 4 which is the number of cpus on this machine) in the `DataLoader` init to improve performance.\n",
      "  warnings.warn(*args, **kwargs)\n"
     ]
    },
    {
     "name": "stdout",
     "output_type": "stream",
     "text": [
      "                                                                      "
     ]
    },
    {
     "name": "stderr",
     "output_type": "stream",
     "text": [
      "Global seed set to 0\n"
     ]
    },
    {
     "name": "stdout",
     "output_type": "stream",
     "text": [
      "Epoch 0:   0%|          | 0/11 [00:00<?, ?it/s] "
     ]
    },
    {
     "name": "stderr",
     "output_type": "stream",
     "text": [
      "/Users/yujikawa/.pyenv/versions/3.9.4/lib/python3.9/site-packages/pytorch_lightning/utilities/distributed.py:69: UserWarning: The dataloader, train dataloader, does not have many workers which may be a bottleneck. Consider increasing the value of the `num_workers` argument` (try 4 which is the number of cpus on this machine) in the `DataLoader` init to improve performance.\n",
      "  warnings.warn(*args, **kwargs)\n"
     ]
    },
    {
     "name": "stdout",
     "output_type": "stream",
     "text": [
      "Epoch 0:  73%|███████▎  | 8/11 [00:10<00:03,  1.31s/it, loss=1.18, v_num=5] \n",
      "Validating: 0it [00:00, ?it/s]\u001b[A\n",
      "Validating:   0%|          | 0/3 [00:00<?, ?it/s]\u001b[A\n",
      "Epoch 0:  91%|█████████ | 10/11 [00:11<00:01,  1.19s/it, loss=1.18, v_num=5]\n",
      "Validating:  67%|██████▋   | 2/3 [00:02<00:01,  1.36s/it]\u001b[A\n",
      "Epoch 0: 100%|██████████| 11/11 [00:13<00:00,  1.26s/it, loss=1.18, v_num=5]\n",
      "Epoch 1:  73%|███████▎  | 8/11 [00:08<00:03,  1.05s/it, loss=0.841, v_num=5]\n",
      "Validating: 0it [00:00, ?it/s]\u001b[A\n",
      "Validating:   0%|          | 0/3 [00:00<?, ?it/s]\u001b[A\n",
      "Epoch 1:  91%|█████████ | 10/11 [00:09<00:00,  1.02it/s, loss=0.841, v_num=5]\n",
      "Validating:  67%|██████▋   | 2/3 [00:02<00:01,  1.36s/it]\u001b[A\n",
      "Epoch 1: 100%|██████████| 11/11 [00:11<00:00,  1.08s/it, loss=0.841, v_num=5]\n",
      "Epoch 2:  73%|███████▎  | 8/11 [00:08<00:03,  1.03s/it, loss=0.584, v_num=5] \n",
      "Validating: 0it [00:00, ?it/s]\u001b[A\n",
      "Validating:   0%|          | 0/3 [00:00<?, ?it/s]\u001b[A\n",
      "Epoch 2:  91%|█████████ | 10/11 [00:09<00:00,  1.04it/s, loss=0.584, v_num=5]\n",
      "Validating:  67%|██████▋   | 2/3 [00:02<00:01,  1.33s/it]\u001b[A\n",
      "Epoch 2: 100%|██████████| 11/11 [00:11<00:00,  1.05s/it, loss=0.584, v_num=5]\n",
      "Epoch 3:  73%|███████▎  | 8/11 [00:08<00:03,  1.01s/it, loss=0.464, v_num=5] \n",
      "Validating: 0it [00:00, ?it/s]\u001b[A\n",
      "Validating:   0%|          | 0/3 [00:00<?, ?it/s]\u001b[A\n",
      "Epoch 3:  91%|█████████ | 10/11 [00:09<00:00,  1.06it/s, loss=0.464, v_num=5]\n",
      "Validating:  67%|██████▋   | 2/3 [00:02<00:01,  1.31s/it]\u001b[A\n",
      "Epoch 3: 100%|██████████| 11/11 [00:11<00:00,  1.03s/it, loss=0.464, v_num=5]\n",
      "Epoch 4:  73%|███████▎  | 8/11 [00:08<00:03,  1.04s/it, loss=0.314, v_num=5] \n",
      "Validating: 0it [00:00, ?it/s]\u001b[A\n",
      "Validating:   0%|          | 0/3 [00:00<?, ?it/s]\u001b[A\n",
      "Epoch 4:  91%|█████████ | 10/11 [00:10<00:01,  1.01s/it, loss=0.314, v_num=5]\n",
      "Validating:  67%|██████▋   | 2/3 [00:03<00:01,  1.63s/it]\u001b[A\n",
      "Epoch 4: 100%|██████████| 11/11 [00:12<00:00,  1.12s/it, loss=0.314, v_num=5]\n",
      "Epoch 5:  73%|███████▎  | 8/11 [00:07<00:02,  1.04it/s, loss=0.135, v_num=5] \n",
      "Validating: 0it [00:00, ?it/s]\u001b[A\n",
      "Validating:   0%|          | 0/3 [00:00<?, ?it/s]\u001b[A\n",
      "Epoch 5:  91%|█████████ | 10/11 [00:09<00:00,  1.10it/s, loss=0.135, v_num=5]\n",
      "Validating:  67%|██████▋   | 2/3 [00:02<00:01,  1.30s/it]\u001b[A\n",
      "Epoch 5: 100%|██████████| 11/11 [00:10<00:00,  1.00it/s, loss=0.135, v_num=5]\n",
      "Epoch 6:  73%|███████▎  | 8/11 [00:07<00:02,  1.04it/s, loss=0.249, v_num=5] \n",
      "Validating: 0it [00:00, ?it/s]\u001b[A\n",
      "Validating:   0%|          | 0/3 [00:00<?, ?it/s]\u001b[A\n",
      "Epoch 6:  91%|█████████ | 10/11 [00:09<00:00,  1.10it/s, loss=0.249, v_num=5]\n",
      "Validating:  67%|██████▋   | 2/3 [00:02<00:01,  1.32s/it]\u001b[A\n",
      "Epoch 6: 100%|██████████| 11/11 [00:11<00:00,  1.00s/it, loss=0.249, v_num=5]\n",
      "Epoch 7:  73%|███████▎  | 8/11 [00:08<00:03,  1.00s/it, loss=0.237, v_num=5] \n",
      "Validating: 0it [00:00, ?it/s]\u001b[A\n",
      "Validating:   0%|          | 0/3 [00:00<?, ?it/s]\u001b[A\n",
      "Epoch 7:  91%|█████████ | 10/11 [00:09<00:00,  1.06it/s, loss=0.237, v_num=5]\n",
      "Validating:  67%|██████▋   | 2/3 [00:02<00:01,  1.30s/it]\u001b[A\n",
      "Epoch 7: 100%|██████████| 11/11 [00:11<00:00,  1.03s/it, loss=0.237, v_num=5]\n",
      "Epoch 8:  73%|███████▎  | 8/11 [00:08<00:03,  1.00s/it, loss=0.107, v_num=5] \n",
      "Validating: 0it [00:00, ?it/s]\u001b[A\n",
      "Validating:   0%|          | 0/3 [00:00<?, ?it/s]\u001b[A\n",
      "Epoch 8:  91%|█████████ | 10/11 [00:09<00:00,  1.06it/s, loss=0.107, v_num=5]\n",
      "Validating:  67%|██████▋   | 2/3 [00:02<00:01,  1.30s/it]\u001b[A\n",
      "Epoch 8: 100%|██████████| 11/11 [00:11<00:00,  1.03s/it, loss=0.107, v_num=5]\n",
      "Epoch 9:  73%|███████▎  | 8/11 [00:08<00:03,  1.01s/it, loss=0.0824, v_num=5]\n",
      "Validating: 0it [00:00, ?it/s]\u001b[A\n",
      "Validating:   0%|          | 0/3 [00:00<?, ?it/s]\u001b[A\n",
      "Epoch 9:  91%|█████████ | 10/11 [00:09<00:00,  1.06it/s, loss=0.0824, v_num=5]\n",
      "Validating:  67%|██████▋   | 2/3 [00:02<00:01,  1.29s/it]\u001b[A\n",
      "Epoch 9: 100%|██████████| 11/11 [00:11<00:00,  1.03s/it, loss=0.0824, v_num=5]\n",
      "Epoch 9: 100%|██████████| 11/11 [00:11<00:00,  1.03s/it, loss=0.0824, v_num=5]\n"
     ]
    }
   ],
   "source": [
    "trainer.fit(net, train_loader, val_loader)"
   ]
  },
  {
   "cell_type": "code",
   "execution_count": 60,
   "metadata": {},
   "outputs": [
    {
     "name": "stdout",
     "output_type": "stream",
     "text": [
      "Testing: 0it [00:00, ?it/s]"
     ]
    },
    {
     "name": "stderr",
     "output_type": "stream",
     "text": [
      "/Users/yujikawa/.pyenv/versions/3.9.4/lib/python3.9/site-packages/pytorch_lightning/utilities/distributed.py:69: UserWarning: The dataloader, test dataloader 0, does not have many workers which may be a bottleneck. Consider increasing the value of the `num_workers` argument` (try 4 which is the number of cpus on this machine) in the `DataLoader` init to improve performance.\n",
      "  warnings.warn(*args, **kwargs)\n"
     ]
    },
    {
     "name": "stdout",
     "output_type": "stream",
     "text": [
      "Testing: 100%|██████████| 3/3 [00:03<00:00,  1.21s/it]\n",
      "--------------------------------------------------------------------------------\n",
      "DATALOADER:0 TEST RESULTS\n",
      "{'test_acc': 0.7931034564971924, 'test_loss': 0.29436296224594116}\n",
      "--------------------------------------------------------------------------------\n"
     ]
    }
   ],
   "source": [
    "results = trainer.test(test_dataloaders=test_loader)"
   ]
  },
  {
   "cell_type": "code",
   "execution_count": 62,
   "metadata": {},
   "outputs": [],
   "source": [
    "torch.save(net.state_dict(), 'gen.pt')"
   ]
  },
  {
   "cell_type": "code",
   "execution_count": null,
   "metadata": {},
   "outputs": [],
   "source": []
  }
 ],
 "metadata": {
  "kernelspec": {
   "display_name": "Python 3",
   "language": "python",
   "name": "python3"
  },
  "language_info": {
   "codemirror_mode": {
    "name": "ipython",
    "version": 3
   },
   "file_extension": ".py",
   "mimetype": "text/x-python",
   "name": "python",
   "nbconvert_exporter": "python",
   "pygments_lexer": "ipython3",
   "version": "3.9.4-final"
  }
 },
 "nbformat": 4,
 "nbformat_minor": 4
}